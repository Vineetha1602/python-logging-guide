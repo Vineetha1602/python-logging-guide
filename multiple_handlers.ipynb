{
 "cells": [
  {
   "cell_type": "markdown",
   "metadata": {},
   "source": [
    "In Python's logging module, a *StreamHandler* is a type of log handler that sends log messages to an output stream, such as sys.stdout (standard output) or sys.stderr (standard error).\n",
    "\n",
    "Key Features of StreamHandler:\n",
    "\n",
    "✅ It is useful for printing log messages directly to the console.\n",
    "\n",
    "✅ By default, it sends logs to sys.stderr, but you can specify a different stream.\n",
    "\n",
    "✅ It works well when you want real-time logging output without writing to a file"
   ]
  },
  {
   "cell_type": "code",
   "execution_count": null,
   "metadata": {},
   "outputs": [
    {
     "name": "stderr",
     "output_type": "stream",
     "text": [
      "2025-04-02 12:17:43,122 - INFO - This is an INFO message.\n",
      "2025-04-02 12:17:43,123 - ERROR - This is an ERROR message.\n"
     ]
    }
   ],
   "source": [
    "import logging\n",
    "\n",
    "# Create a logger\n",
    "logger = logging.getLogger(\"my_logger\") # can give any name\n",
    "logger.setLevel(logging.DEBUG)  # Set log level\n",
    "\n",
    "# Create a StreamHandler\n",
    "stream_handler = logging.StreamHandler()  # Defaults to sys.stderr\n",
    "stream_handler.setLevel(logging.INFO)  # Set handler level\n",
    "\n",
    "# Create a formatter and add it to the handler\n",
    "formatter = logging.Formatter('%(asctime)s - %(levelname)s - %(message)s')\n",
    "stream_handler.setFormatter(formatter)\n",
    "\n",
    "# Add handler to the logger\n",
    "logger.addHandler(stream_handler)\n",
    "\n",
    "# Example log messages\n",
    "logger.debug(\"This is a DEBUG message.\")  # Won't be shown (level too low)\n",
    "logger.info(\"This is an INFO message.\")   # Will be shown\n",
    "logger.error(\"This is an ERROR message.\") # Will be shown\n"
   ]
  }
 ],
 "metadata": {
  "kernelspec": {
   "display_name": "loggingenv",
   "language": "python",
   "name": "python3"
  },
  "language_info": {
   "codemirror_mode": {
    "name": "ipython",
    "version": 3
   },
   "file_extension": ".py",
   "mimetype": "text/x-python",
   "name": "python",
   "nbconvert_exporter": "python",
   "pygments_lexer": "ipython3",
   "version": "3.10.4"
  }
 },
 "nbformat": 4,
 "nbformat_minor": 2
}
