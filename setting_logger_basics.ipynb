{
 "cells": [
  {
   "cell_type": "code",
   "execution_count": 1,
   "metadata": {},
   "outputs": [
    {
     "name": "stdout",
     "output_type": "stream",
     "text": [
      "Logging complete. Check all_levels.log for log messages.\n"
     ]
    }
   ],
   "source": [
    "import logging\n",
    "\n",
    "# Configure logging\n",
    "logging.basicConfig(\n",
    "    level=logging.DEBUG,  # Set the logging level\n",
    "    format='%(asctime)s - %(levelname)s - %(message)s',\n",
    "    filename='all_levels.log',  # Log file name\n",
    "    filemode='w'  # 'w' to overwrite log file each run, use 'a' to append\n",
    ")\n",
    "\n",
    "# Create a logger - useful when we have different modules\n",
    "logger = logging.getLogger()\n",
    "\n",
    "# Logging messages at different levels\n",
    "logger.debug(\"This is a debug message\")\n",
    "logger.info(\"This is an info message\")\n",
    "logger.warning(\"This is a warning message\")\n",
    "logger.error(\"This is an error message\")\n",
    "logger.critical(\"This is a critical message\")\n",
    "\n",
    "print(\"Logging complete. Check all_levels.log for log messages.\")\n"
   ]
  },
  {
   "cell_type": "code",
   "execution_count": 3,
   "metadata": {},
   "outputs": [
    {
     "data": {
      "text/html": [
       "<div>\n",
       "<style scoped>\n",
       "    .dataframe tbody tr th:only-of-type {\n",
       "        vertical-align: middle;\n",
       "    }\n",
       "\n",
       "    .dataframe tbody tr th {\n",
       "        vertical-align: top;\n",
       "    }\n",
       "\n",
       "    .dataframe thead th {\n",
       "        text-align: right;\n",
       "    }\n",
       "</style>\n",
       "<table border=\"1\" class=\"dataframe\">\n",
       "  <thead>\n",
       "    <tr style=\"text-align: right;\">\n",
       "      <th></th>\n",
       "      <th>Timestamp</th>\n",
       "      <th>Log_Level</th>\n",
       "      <th>Message</th>\n",
       "    </tr>\n",
       "  </thead>\n",
       "  <tbody>\n",
       "    <tr>\n",
       "      <th>0</th>\n",
       "      <td>2025-04-01 19:02:12,195</td>\n",
       "      <td>DEBUG</td>\n",
       "      <td>This is a debug message</td>\n",
       "    </tr>\n",
       "    <tr>\n",
       "      <th>1</th>\n",
       "      <td>2025-04-01 19:02:12,196</td>\n",
       "      <td>INFO</td>\n",
       "      <td>This is an info message</td>\n",
       "    </tr>\n",
       "    <tr>\n",
       "      <th>2</th>\n",
       "      <td>2025-04-01 19:02:12,198</td>\n",
       "      <td>WARNING</td>\n",
       "      <td>This is a warning message</td>\n",
       "    </tr>\n",
       "    <tr>\n",
       "      <th>3</th>\n",
       "      <td>2025-04-01 19:02:12,198</td>\n",
       "      <td>ERROR</td>\n",
       "      <td>This is an error message</td>\n",
       "    </tr>\n",
       "    <tr>\n",
       "      <th>4</th>\n",
       "      <td>2025-04-01 19:02:12,198</td>\n",
       "      <td>CRITICAL</td>\n",
       "      <td>This is a critical message</td>\n",
       "    </tr>\n",
       "  </tbody>\n",
       "</table>\n",
       "</div>"
      ],
      "text/plain": [
       "                 Timestamp Log_Level                     Message\n",
       "0  2025-04-01 19:02:12,195     DEBUG     This is a debug message\n",
       "1  2025-04-01 19:02:12,196      INFO     This is an info message\n",
       "2  2025-04-01 19:02:12,198   WARNING   This is a warning message\n",
       "3  2025-04-01 19:02:12,198     ERROR    This is an error message\n",
       "4  2025-04-01 19:02:12,198  CRITICAL  This is a critical message"
      ]
     },
     "execution_count": 3,
     "metadata": {},
     "output_type": "execute_result"
    }
   ],
   "source": [
    "import pandas as pd\n",
    "\n",
    "with open('all_levels.log', 'r') as file:\n",
    "    lines = [line.strip() for line in file]\n",
    "\n",
    "structured_list = [line.split(' - ') for line in lines]\n",
    "\n",
    "log_dataframe = pd.DataFrame(structured_list, columns = ['Timestamp', 'Log_Level', 'Message'])\n",
    "log_dataframe"
   ]
  },
  {
   "cell_type": "code",
   "execution_count": 4,
   "metadata": {},
   "outputs": [],
   "source": [
    "log_dataframe.to_csv('all_levels.csv', index = False)"
   ]
  },
  {
   "cell_type": "code",
   "execution_count": null,
   "metadata": {},
   "outputs": [],
   "source": []
  }
 ],
 "metadata": {
  "kernelspec": {
   "display_name": "loggingenv",
   "language": "python",
   "name": "python3"
  },
  "language_info": {
   "codemirror_mode": {
    "name": "ipython",
    "version": 3
   },
   "file_extension": ".py",
   "mimetype": "text/x-python",
   "name": "python",
   "nbconvert_exporter": "python",
   "pygments_lexer": "ipython3",
   "version": "3.10.4"
  }
 },
 "nbformat": 4,
 "nbformat_minor": 2
}
