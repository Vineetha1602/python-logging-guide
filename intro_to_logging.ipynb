{
 "cells": [
  {
   "cell_type": "markdown",
   "metadata": {},
   "source": [
    " ### Default settings\n",
    "\n",
    "By default, the logging module logs messages at WARNING level and above to the console.\n",
    "\n",
    "So, only WARNING, ERROR, and CRITICAL messages appear"
   ]
  },
  {
   "cell_type": "code",
   "execution_count": 3,
   "metadata": {},
   "outputs": [
    {
     "name": "stderr",
     "output_type": "stream",
     "text": [
      "WARNING:root:warning\n",
      "ERROR:root:error\n",
      "CRITICAL:root:crtitcal\n"
     ]
    }
   ],
   "source": [
    "import logging\n",
    "\n",
    "logging.debug('debug')\n",
    "logging.info('info')\n",
    "logging.warning('warning')\n",
    "logging.error('error')\n",
    "logging.critical('crtitcal')\n",
    "\n"
   ]
  },
  {
   "cell_type": "markdown",
   "metadata": {},
   "source": [
    "logging.basicConfig(level=logging.INFO) is called.\n",
    "\n",
    "This should configure the root logger to log messages at INFO level and above.\n",
    "\n",
    "However, basicConfig() only works if no handlers have been set up already.\n",
    "\n",
    "If a handler is already created (which may happen in interactive environments like Jupyter notebooks), basicConfig() does nothing.\n",
    "\n",
    "Since Python’s logging module may already have a default handler in some environments, the setting is ignored, and the behavior remains the same as the first code block."
   ]
  },
  {
   "cell_type": "code",
   "execution_count": 4,
   "metadata": {},
   "outputs": [
    {
     "name": "stderr",
     "output_type": "stream",
     "text": [
      "WARNING:root:warning\n",
      "ERROR:root:error\n",
      "CRITICAL:root:crtitcal\n"
     ]
    }
   ],
   "source": [
    "import logging\n",
    "\n",
    "logging.basicConfig(level = logging.INFO)\n",
    "\n",
    "logging.debug('debug')\n",
    "logging.info('info')\n",
    "logging.warning('warning')\n",
    "logging.error('error')\n",
    "logging.critical('crtitcal')\n"
   ]
  },
  {
   "cell_type": "markdown",
   "metadata": {},
   "source": [
    "### Remove existing handlers\n",
    "\n",
    "To ensure basicConfig() works as expected, restart the kernel before running the code OR explicitly remove existing handlers before calling basicConfig():"
   ]
  },
  {
   "cell_type": "code",
   "execution_count": null,
   "metadata": {},
   "outputs": [
    {
     "name": "stderr",
     "output_type": "stream",
     "text": [
      "INFO:root:info\n",
      "WARNING:root:warning\n",
      "ERROR:root:error\n",
      "CRITICAL:root:crtitcal\n"
     ]
    }
   ],
   "source": [
    "import logging\n",
    "\n",
    "# Remove existing handlers\n",
    "for handler in logging.root.handlers[:]:\n",
    "    logging.root.removeHandler(handler)\n",
    "\n",
    "logging.basicConfig(level = logging.INFO)\n",
    "\n",
    "logging.debug('debug')\n",
    "logging.info('info')\n",
    "logging.warning('warning')\n",
    "logging.error('error')\n",
    "logging.critical('crtitcal')"
   ]
  },
  {
   "cell_type": "markdown",
   "metadata": {},
   "source": [
    " ### Logging to a file"
   ]
  },
  {
   "cell_type": "code",
   "execution_count": null,
   "metadata": {},
   "outputs": [],
   "source": [
    "import logging\n",
    "\n",
    "# Remove existing handlers\n",
    "for handler in logging.root.handlers[:]:\n",
    "    logging.root.removeHandler(handler)\n",
    "\n",
    "logging.basicConfig(level = logging.INFO, filename= './generated_log_files/intro_log.log')\n",
    "\n",
    "logging.debug('debug')\n",
    "logging.info('info')\n",
    "logging.warning('warning')\n",
    "logging.error('error')\n",
    "logging.critical('crtitcal')"
   ]
  }
 ],
 "metadata": {
  "kernelspec": {
   "display_name": "loggingenv",
   "language": "python",
   "name": "python3"
  },
  "language_info": {
   "codemirror_mode": {
    "name": "ipython",
    "version": 3
   },
   "file_extension": ".py",
   "mimetype": "text/x-python",
   "name": "python",
   "nbconvert_exporter": "python",
   "pygments_lexer": "ipython3",
   "version": "3.10.4"
  }
 },
 "nbformat": 4,
 "nbformat_minor": 2
}
